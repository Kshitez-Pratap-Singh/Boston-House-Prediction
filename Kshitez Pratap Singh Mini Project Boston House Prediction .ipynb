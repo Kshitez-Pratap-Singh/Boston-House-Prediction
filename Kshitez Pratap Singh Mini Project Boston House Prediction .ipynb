{
 "cells": [
  {
   "cell_type": "markdown",
   "id": "a0df0845",
   "metadata": {},
   "source": [
    "# Machine Learning 22"
   ]
  },
  {
   "cell_type": "markdown",
   "id": "2889ad30",
   "metadata": {},
   "source": [
    "## Mini Project : - Boston House Prediction "
   ]
  },
  {
   "cell_type": "markdown",
   "id": "ddd494ad",
   "metadata": {},
   "source": [
    "---"
   ]
  },
  {
   "cell_type": "markdown",
   "id": "30416660",
   "metadata": {},
   "source": [
    "### Problem Statement\n",
    "To predict Housing Price using Population Status in Boston Housing Dataset."
   ]
  },
  {
   "cell_type": "markdown",
   "id": "80b4ece1",
   "metadata": {},
   "source": [
    "---"
   ]
  },
  {
   "cell_type": "markdown",
   "id": "0d19a8e7",
   "metadata": {},
   "source": [
    "#### Importing all the required python pakages"
   ]
  },
  {
   "cell_type": "code",
   "execution_count": 1,
   "id": "aba1545c",
   "metadata": {},
   "outputs": [],
   "source": [
    "import numpy as np\n",
    "import pandas as pd\n",
    "import seaborn as sns\n",
    "import matplotlib.pyplot as plt\n",
    "\n",
    "from sklearn.model_selection import train_test_split\n",
    "from sklearn.linear_model import LinearRegression"
   ]
  },
  {
   "cell_type": "markdown",
   "id": "940b635a",
   "metadata": {},
   "source": [
    "#### Exploring the Boston Housing Dataset"
   ]
  },
  {
   "cell_type": "code",
   "execution_count": 2,
   "id": "22cdcab3",
   "metadata": {},
   "outputs": [],
   "source": [
    "# Importing the Boston Dataset which is in csv format \n",
    "\n",
    "df=pd.read_csv(r\"K:\\Ml Dataset\\Boston.csv\")"
   ]
  },
  {
   "cell_type": "code",
   "execution_count": 3,
   "id": "84ab6fad",
   "metadata": {},
   "outputs": [
    {
     "name": "stdout",
     "output_type": "stream",
     "text": [
      "<class 'pandas.core.frame.DataFrame'>\n",
      "RangeIndex: 506 entries, 0 to 505\n",
      "Data columns (total 15 columns):\n",
      " #   Column      Non-Null Count  Dtype  \n",
      "---  ------      --------------  -----  \n",
      " 0   Unnamed: 0  506 non-null    int64  \n",
      " 1   crim        506 non-null    float64\n",
      " 2   zn          506 non-null    float64\n",
      " 3   indus       506 non-null    float64\n",
      " 4   chas        506 non-null    int64  \n",
      " 5   nox         506 non-null    float64\n",
      " 6   rm          506 non-null    float64\n",
      " 7   age         506 non-null    float64\n",
      " 8   dis         506 non-null    float64\n",
      " 9   rad         506 non-null    int64  \n",
      " 10  tax         506 non-null    int64  \n",
      " 11  ptratio     506 non-null    float64\n",
      " 12  black       506 non-null    float64\n",
      " 13  lstat       506 non-null    float64\n",
      " 14  medv        506 non-null    float64\n",
      "dtypes: float64(11), int64(4)\n",
      "memory usage: 59.4 KB\n"
     ]
    }
   ],
   "source": [
    "# finding the dtype, column present in the Dataset\n",
    "\n",
    "df.info()"
   ]
  },
  {
   "cell_type": "code",
   "execution_count": 4,
   "id": "65339070",
   "metadata": {},
   "outputs": [
    {
     "name": "stdout",
     "output_type": "stream",
     "text": [
      "Number of rows in Boston Housing Dataset    :  506\n",
      "Number of columns in Boston Housing Dataset :  15\n"
     ]
    }
   ],
   "source": [
    "# Exploring the shape of the dataset\n",
    "\n",
    "x,y=df.shape\n",
    "print(\"Number of rows in Boston Housing Dataset    : \",x)     #Number of rows\n",
    "print(\"Number of columns in Boston Housing Dataset : \",y)     #Number of Columns"
   ]
  },
  {
   "cell_type": "code",
   "execution_count": 5,
   "id": "31639f2c",
   "metadata": {},
   "outputs": [
    {
     "data": {
      "text/html": [
       "<div>\n",
       "<style scoped>\n",
       "    .dataframe tbody tr th:only-of-type {\n",
       "        vertical-align: middle;\n",
       "    }\n",
       "\n",
       "    .dataframe tbody tr th {\n",
       "        vertical-align: top;\n",
       "    }\n",
       "\n",
       "    .dataframe thead th {\n",
       "        text-align: right;\n",
       "    }\n",
       "</style>\n",
       "<table border=\"1\" class=\"dataframe\">\n",
       "  <thead>\n",
       "    <tr style=\"text-align: right;\">\n",
       "      <th></th>\n",
       "      <th>Unnamed: 0</th>\n",
       "      <th>crim</th>\n",
       "      <th>zn</th>\n",
       "      <th>indus</th>\n",
       "      <th>chas</th>\n",
       "      <th>nox</th>\n",
       "      <th>rm</th>\n",
       "      <th>age</th>\n",
       "      <th>dis</th>\n",
       "      <th>rad</th>\n",
       "      <th>tax</th>\n",
       "      <th>ptratio</th>\n",
       "      <th>black</th>\n",
       "      <th>lstat</th>\n",
       "      <th>medv</th>\n",
       "    </tr>\n",
       "  </thead>\n",
       "  <tbody>\n",
       "    <tr>\n",
       "      <th>0</th>\n",
       "      <td>1</td>\n",
       "      <td>0.00632</td>\n",
       "      <td>18.0</td>\n",
       "      <td>2.31</td>\n",
       "      <td>0</td>\n",
       "      <td>0.538</td>\n",
       "      <td>6.575</td>\n",
       "      <td>65.2</td>\n",
       "      <td>4.0900</td>\n",
       "      <td>1</td>\n",
       "      <td>296</td>\n",
       "      <td>15.3</td>\n",
       "      <td>396.90</td>\n",
       "      <td>4.98</td>\n",
       "      <td>24.0</td>\n",
       "    </tr>\n",
       "    <tr>\n",
       "      <th>1</th>\n",
       "      <td>2</td>\n",
       "      <td>0.02731</td>\n",
       "      <td>0.0</td>\n",
       "      <td>7.07</td>\n",
       "      <td>0</td>\n",
       "      <td>0.469</td>\n",
       "      <td>6.421</td>\n",
       "      <td>78.9</td>\n",
       "      <td>4.9671</td>\n",
       "      <td>2</td>\n",
       "      <td>242</td>\n",
       "      <td>17.8</td>\n",
       "      <td>396.90</td>\n",
       "      <td>9.14</td>\n",
       "      <td>21.6</td>\n",
       "    </tr>\n",
       "    <tr>\n",
       "      <th>2</th>\n",
       "      <td>3</td>\n",
       "      <td>0.02729</td>\n",
       "      <td>0.0</td>\n",
       "      <td>7.07</td>\n",
       "      <td>0</td>\n",
       "      <td>0.469</td>\n",
       "      <td>7.185</td>\n",
       "      <td>61.1</td>\n",
       "      <td>4.9671</td>\n",
       "      <td>2</td>\n",
       "      <td>242</td>\n",
       "      <td>17.8</td>\n",
       "      <td>392.83</td>\n",
       "      <td>4.03</td>\n",
       "      <td>34.7</td>\n",
       "    </tr>\n",
       "    <tr>\n",
       "      <th>3</th>\n",
       "      <td>4</td>\n",
       "      <td>0.03237</td>\n",
       "      <td>0.0</td>\n",
       "      <td>2.18</td>\n",
       "      <td>0</td>\n",
       "      <td>0.458</td>\n",
       "      <td>6.998</td>\n",
       "      <td>45.8</td>\n",
       "      <td>6.0622</td>\n",
       "      <td>3</td>\n",
       "      <td>222</td>\n",
       "      <td>18.7</td>\n",
       "      <td>394.63</td>\n",
       "      <td>2.94</td>\n",
       "      <td>33.4</td>\n",
       "    </tr>\n",
       "    <tr>\n",
       "      <th>4</th>\n",
       "      <td>5</td>\n",
       "      <td>0.06905</td>\n",
       "      <td>0.0</td>\n",
       "      <td>2.18</td>\n",
       "      <td>0</td>\n",
       "      <td>0.458</td>\n",
       "      <td>7.147</td>\n",
       "      <td>54.2</td>\n",
       "      <td>6.0622</td>\n",
       "      <td>3</td>\n",
       "      <td>222</td>\n",
       "      <td>18.7</td>\n",
       "      <td>396.90</td>\n",
       "      <td>5.33</td>\n",
       "      <td>36.2</td>\n",
       "    </tr>\n",
       "  </tbody>\n",
       "</table>\n",
       "</div>"
      ],
      "text/plain": [
       "   Unnamed: 0     crim    zn  indus  chas    nox     rm   age     dis  rad  \\\n",
       "0           1  0.00632  18.0   2.31     0  0.538  6.575  65.2  4.0900    1   \n",
       "1           2  0.02731   0.0   7.07     0  0.469  6.421  78.9  4.9671    2   \n",
       "2           3  0.02729   0.0   7.07     0  0.469  7.185  61.1  4.9671    2   \n",
       "3           4  0.03237   0.0   2.18     0  0.458  6.998  45.8  6.0622    3   \n",
       "4           5  0.06905   0.0   2.18     0  0.458  7.147  54.2  6.0622    3   \n",
       "\n",
       "   tax  ptratio   black  lstat  medv  \n",
       "0  296     15.3  396.90   4.98  24.0  \n",
       "1  242     17.8  396.90   9.14  21.6  \n",
       "2  242     17.8  392.83   4.03  34.7  \n",
       "3  222     18.7  394.63   2.94  33.4  \n",
       "4  222     18.7  396.90   5.33  36.2  "
      ]
     },
     "execution_count": 5,
     "metadata": {},
     "output_type": "execute_result"
    }
   ],
   "source": [
    "# Seeing the first five rows of the dataset in order to get the glance of the dataset\n",
    "\n",
    "df.head(5)"
   ]
  },
  {
   "cell_type": "markdown",
   "id": "00647a05",
   "metadata": {},
   "source": [
    "#### Selecting the dependent and independent variable in the dataset"
   ]
  },
  {
   "cell_type": "code",
   "execution_count": 6,
   "id": "7d90ff5e",
   "metadata": {},
   "outputs": [
    {
     "data": {
      "text/html": [
       "<div>\n",
       "<style scoped>\n",
       "    .dataframe tbody tr th:only-of-type {\n",
       "        vertical-align: middle;\n",
       "    }\n",
       "\n",
       "    .dataframe tbody tr th {\n",
       "        vertical-align: top;\n",
       "    }\n",
       "\n",
       "    .dataframe thead th {\n",
       "        text-align: right;\n",
       "    }\n",
       "</style>\n",
       "<table border=\"1\" class=\"dataframe\">\n",
       "  <thead>\n",
       "    <tr style=\"text-align: right;\">\n",
       "      <th></th>\n",
       "      <th>lstat</th>\n",
       "      <th>medv</th>\n",
       "    </tr>\n",
       "  </thead>\n",
       "  <tbody>\n",
       "    <tr>\n",
       "      <th>0</th>\n",
       "      <td>4.98</td>\n",
       "      <td>24.0</td>\n",
       "    </tr>\n",
       "    <tr>\n",
       "      <th>1</th>\n",
       "      <td>9.14</td>\n",
       "      <td>21.6</td>\n",
       "    </tr>\n",
       "    <tr>\n",
       "      <th>2</th>\n",
       "      <td>4.03</td>\n",
       "      <td>34.7</td>\n",
       "    </tr>\n",
       "    <tr>\n",
       "      <th>3</th>\n",
       "      <td>2.94</td>\n",
       "      <td>33.4</td>\n",
       "    </tr>\n",
       "    <tr>\n",
       "      <th>4</th>\n",
       "      <td>5.33</td>\n",
       "      <td>36.2</td>\n",
       "    </tr>\n",
       "  </tbody>\n",
       "</table>\n",
       "</div>"
      ],
      "text/plain": [
       "   lstat  medv\n",
       "0   4.98  24.0\n",
       "1   9.14  21.6\n",
       "2   4.03  34.7\n",
       "3   2.94  33.4\n",
       "4   5.33  36.2"
      ]
     },
     "execution_count": 6,
     "metadata": {},
     "output_type": "execute_result"
    }
   ],
   "source": [
    "# Seeing the dataframe of both the dependent and independent column\n",
    "\n",
    "sd=df.loc[:,['lstat','medv']]\n",
    "sd.head()"
   ]
  },
  {
   "cell_type": "code",
   "execution_count": 7,
   "id": "66dc239e",
   "metadata": {},
   "outputs": [
    {
     "data": {
      "image/png": "[encoded data removed]",
      "text/plain": [
       "<Figure size 432x288 with 1 Axes>"
      ]
     },
     "metadata": {
      "needs_background": "light"
     },
     "output_type": "display_data"
    }
   ],
   "source": [
    "# Seeing the coorelation through visualisation through the scatter chart \n",
    "\n",
    "sd.plot(x='lstat',y='medv',style='o',color='green')\n",
    "plt.title('lstat vs medv')\n",
    "plt.xlabel('lstsat')\n",
    "plt.ylabel('medv')\n",
    "plt.show()"
   ]
  },
  {
   "cell_type": "code",
   "execution_count": 8,
   "id": "216b949a",
   "metadata": {},
   "outputs": [],
   "source": [
    "# x,y are independent and dependent variable repectively\n",
    "# where, x = lstat column\n",
    "#        y = medv column\n",
    "\n",
    "x=pd.DataFrame(df['lstat'])   #Here, we have use pd.DataFrame in order to change it to pandas DataFrame \n",
    "y=pd.DataFrame(df['medv'])"
   ]
  },
  {
   "cell_type": "code",
   "execution_count": 9,
   "id": "d7b12f4a",
   "metadata": {},
   "outputs": [
    {
     "name": "stdout",
     "output_type": "stream",
     "text": [
      "The independent variable x are :\n",
      "      lstat\n",
      "0     4.98\n",
      "1     9.14\n",
      "2     4.03\n",
      "3     2.94\n",
      "4     5.33\n",
      "..     ...\n",
      "501   9.67\n",
      "502   9.08\n",
      "503   5.64\n",
      "504   6.48\n",
      "505   7.88\n",
      "\n",
      "[506 rows x 1 columns]\n"
     ]
    }
   ],
   "source": [
    "print('The independent variable x are :\\n',x)"
   ]
  },
  {
   "cell_type": "code",
   "execution_count": 10,
   "id": "a2172805",
   "metadata": {},
   "outputs": [
    {
     "name": "stdout",
     "output_type": "stream",
     "text": [
      "The dependent variable y are :\n",
      "      medv\n",
      "0    24.0\n",
      "1    21.6\n",
      "2    34.7\n",
      "3    33.4\n",
      "4    36.2\n",
      "..    ...\n",
      "501  22.4\n",
      "502  20.6\n",
      "503  23.9\n",
      "504  22.0\n",
      "505  11.9\n",
      "\n",
      "[506 rows x 1 columns]\n"
     ]
    }
   ],
   "source": [
    "print('The dependent variable y are :\\n',y)"
   ]
  },
  {
   "cell_type": "markdown",
   "id": "f22eb5af",
   "metadata": {},
   "source": [
    "#### Taking care of missing variables\n",
    "\n",
    "In order to apply **Imputation** we must see if there is any null value"
   ]
  },
  {
   "cell_type": "code",
   "execution_count": 11,
   "id": "c4c1d07f",
   "metadata": {},
   "outputs": [
    {
     "name": "stdout",
     "output_type": "stream",
     "text": [
      "The dataset has null values:  0\n",
      "\n",
      "\n",
      "x has null values:  0\n",
      "\n",
      "\n",
      "y has null values:  0\n"
     ]
    }
   ],
   "source": [
    "# To count any null value in the entire dataset\n",
    "print('The dataset has null values: ',df.isnull().sum().sum())  \n",
    "print('\\n')\n",
    "\n",
    "# To count any null value in the independent column  \n",
    "print('x has null values: ',x.isnull().sum().sum())\n",
    "print('\\n')\n",
    "\n",
    "# To count any null value in the dependent column \n",
    "print('y has null values: ',y.isnull().sum().sum())"
   ]
  },
  {
   "cell_type": "markdown",
   "id": "4cf3406a",
   "metadata": {},
   "source": [
    "#### Note\n",
    "We does not required to perform the encoding as there is no Categorical data in our dependent and independent column."
   ]
  },
  {
   "cell_type": "markdown",
   "id": "4fa42169",
   "metadata": {},
   "source": [
    "#### Splitting the Dataset into Test and Training Dataset and also checking its size"
   ]
  },
  {
   "cell_type": "code",
   "execution_count": 12,
   "id": "269d110c",
   "metadata": {},
   "outputs": [
    {
     "name": "stdout",
     "output_type": "stream",
     "text": [
      "Size of x_train :  (354, 1)\n",
      "Size of x_test  :  (152, 1)\n",
      "Size of y_train :  (354, 1)\n",
      "Size of y_test  :  (152, 1)\n"
     ]
    }
   ],
   "source": [
    "# using the train_test_split from the sklearn.model_selection\n",
    "\n",
    "from sklearn.model_selection import train_test_split\n",
    "x_train,x_test,y_train,y_test=train_test_split(x,y,test_size=0.3,random_state=1)\n",
    "\n",
    "print('Size of x_train : ',x_train.shape)\n",
    "print('Size of x_test  : ',x_test.shape)\n",
    "print('Size of y_train : ',y_train.shape)\n",
    "print('Size of y_test  : ',x_test.shape)"
   ]
  },
  {
   "cell_type": "markdown",
   "id": "41a4455d",
   "metadata": {},
   "source": [
    "#### Feature Scaling : Standardisation\n",
    "We will apply standardisation if there is any outlier in the dataset.<br>\n",
    "But since there is only one column we will not apply standardisation"
   ]
  },
  {
   "cell_type": "markdown",
   "id": "ffc1353f",
   "metadata": {},
   "source": [
    "#### Training the model"
   ]
  },
  {
   "cell_type": "code",
   "execution_count": 13,
   "id": "02bcef76",
   "metadata": {},
   "outputs": [
    {
     "data": {
      "text/plain": [
       "LinearRegression()"
      ]
     },
     "execution_count": 13,
     "metadata": {},
     "output_type": "execute_result"
    }
   ],
   "source": [
    "#In this we will use the skleran .linear_model \n",
    "\n",
    "from sklearn.linear_model import LinearRegression\n",
    "\n",
    "regressor=LinearRegression()\n",
    "regressor.fit(x_train,y_train)"
   ]
  },
  {
   "cell_type": "markdown",
   "id": "f1fd008c",
   "metadata": {},
   "source": [
    "#### Predicting the value"
   ]
  },
  {
   "cell_type": "code",
   "execution_count": 14,
   "id": "653cc417",
   "metadata": {
    "scrolled": true
   },
   "outputs": [
    {
     "name": "stdout",
     "output_type": "stream",
     "text": [
      "Predicted values are: \n",
      " [[27.31914909]\n",
      " [27.63999115]\n",
      " [16.98803475]\n",
      " [26.79663488]\n",
      " [24.88074943]\n",
      " [24.02822625]\n",
      " [29.91338632]\n",
      " [22.26817837]\n",
      " [17.79472336]\n",
      " [26.14578384]\n",
      " [27.12664386]\n",
      " [29.99588857]\n",
      " [21.74566416]\n",
      " [24.83491485]\n",
      " [23.47821128]\n",
      " [23.10236773]\n",
      " [12.91792404]\n",
      " [29.97755474]\n",
      " [27.41081825]\n",
      " [ 7.15193387]\n",
      " [23.67988344]\n",
      " [18.95892169]\n",
      " [25.71493879]\n",
      " [28.61168425]\n",
      " [29.94088707]\n",
      " [11.8637287 ]\n",
      " [15.57632968]\n",
      " [24.56907429]\n",
      " [27.56665583]\n",
      " [15.10881697]\n",
      " [29.18919996]\n",
      " [17.29970989]\n",
      " [31.58176504]\n",
      " [19.15142693]\n",
      " [25.8891102 ]\n",
      " [21.76399799]\n",
      " [17.91389327]\n",
      " [29.33587062]\n",
      " [12.82625488]\n",
      " [20.48979666]\n",
      " [27.4933205 ]\n",
      " [28.03416854]\n",
      " [27.25498068]\n",
      " [12.12956926]\n",
      " [17.69388728]\n",
      " [13.37626984]\n",
      " [32.46178898]\n",
      " [19.23392917]\n",
      " [25.22909224]\n",
      " [24.47740513]\n",
      " [23.53321278]\n",
      " [23.93655709]\n",
      " [29.44587361]\n",
      " [24.04656008]\n",
      " [ 7.01443013]\n",
      " [28.05250237]\n",
      " [ 6.74858956]\n",
      " [28.74002108]\n",
      " [20.77397106]\n",
      " [30.60090503]\n",
      " [20.453129  ]\n",
      " [28.23584069]\n",
      " [15.96134016]\n",
      " [18.05139701]\n",
      " [ 7.13360004]\n",
      " [29.60171118]\n",
      " [31.9576086 ]\n",
      " [26.2924545 ]\n",
      " [24.6882442 ]\n",
      " [23.55154661]\n",
      " [28.5841835 ]\n",
      " [ 8.29779837]\n",
      " [21.38815443]\n",
      " [23.23987147]\n",
      " [21.30565219]\n",
      " [24.66991037]\n",
      " [31.50842971]\n",
      " [26.67746497]\n",
      " [27.44748592]\n",
      " [30.95841475]\n",
      " [20.11395311]\n",
      " [24.77991336]\n",
      " [29.28086912]\n",
      " [12.89042329]\n",
      " [28.74002108]\n",
      " [29.66587959]\n",
      " [16.52052203]\n",
      " [29.56504352]\n",
      " [21.29648527]\n",
      " [18.67474729]\n",
      " [29.05169622]\n",
      " [29.52837585]\n",
      " [17.65721962]\n",
      " [22.82736025]\n",
      " [20.9114748 ]\n",
      " [22.0573393 ]\n",
      " [25.35742907]\n",
      " [26.74163338]\n",
      " [30.42673362]\n",
      " [22.30484604]\n",
      " [19.83894563]\n",
      " [16.94220017]\n",
      " [28.89585865]\n",
      " [27.93333247]\n",
      " [ 5.97856862]\n",
      " [22.90986249]\n",
      " [18.49140897]\n",
      " [29.18003304]\n",
      " [22.1673423 ]\n",
      " [27.19081227]\n",
      " [31.32509139]\n",
      " [25.93494478]\n",
      " [14.49463359]\n",
      " [28.29084219]\n",
      " [27.08080928]\n",
      " [31.59093196]\n",
      " [25.29326066]\n",
      " [23.50571203]\n",
      " [32.40678748]\n",
      " [27.40165134]\n",
      " [25.08242159]\n",
      " [17.07053699]\n",
      " [29.7850495 ]\n",
      " [21.21398303]\n",
      " [25.50409972]\n",
      " [22.37818136]\n",
      " [26.35662291]\n",
      " [25.89827711]\n",
      " [20.75563723]\n",
      " [29.37253828]\n",
      " [21.25065069]\n",
      " [24.72491186]\n",
      " [28.52918201]\n",
      " [10.68119653]\n",
      " [27.60332349]\n",
      " [27.86916405]\n",
      " [ 9.63616811]\n",
      " [16.79552951]\n",
      " [27.29164835]\n",
      " [18.44557439]\n",
      " [29.11586463]\n",
      " [17.29970989]\n",
      " [17.11637157]\n",
      " [28.39167827]\n",
      " [31.16925382]\n",
      " [25.82494178]\n",
      " [27.62165732]\n",
      " [14.67797191]\n",
      " [28.1258377 ]\n",
      " [17.78555644]\n",
      " [25.4307644 ]\n",
      " [15.99800782]]\n"
     ]
    }
   ],
   "source": [
    "# Using predict() will give the prediction.\n",
    "\n",
    "y_pred=regressor.predict(x_test)\n",
    "print('Predicted values are: \\n',y_pred)"
   ]
  },
  {
   "cell_type": "markdown",
   "id": "f7341280",
   "metadata": {},
   "source": [
    "##### Visualisation with training data"
   ]
  },
  {
   "cell_type": "code",
   "execution_count": 15,
   "id": "3fa3d73c",
   "metadata": {},
   "outputs": [
    {
     "data": {
      "image/png": "[encoded data removed]",
      "text/plain": [
       "<Figure size 432x288 with 1 Axes>"
      ]
     },
     "metadata": {
      "needs_background": "light"
     },
     "output_type": "display_data"
    }
   ],
   "source": [
    "plt.scatter(x_train,y_train,color='red')\n",
    "plt.title('lstat vs medv (with x_train vs y_train)')\n",
    "plt.xlabel('lstsat')\n",
    "plt.ylabel('medv')\n",
    "plt.show()"
   ]
  },
  {
   "cell_type": "code",
   "execution_count": 16,
   "id": "4d1440c3",
   "metadata": {},
   "outputs": [
    {
     "data": {
      "image/png": "[encoded data removed]",
      "text/plain": [
       "<Figure size 432x288 with 1 Axes>"
      ]
     },
     "metadata": {
      "needs_background": "light"
     },
     "output_type": "display_data"
    }
   ],
   "source": [
    "plt.scatter(x_train,regressor.predict(x_train),color='blue')\n",
    "plt.title('lstat vs medv (with x_train vs x_train_predict)')\n",
    "plt.xlabel('lstsat')\n",
    "plt.ylabel('medv')\n",
    "plt.show()"
   ]
  },
  {
   "cell_type": "code",
   "execution_count": 17,
   "id": "84c4ca48",
   "metadata": {
    "scrolled": true
   },
   "outputs": [
    {
     "data": {
      "image/png": "[encoded data removed]",
      "text/plain": [
       "<Figure size 432x288 with 1 Axes>"
      ]
     },
     "metadata": {
      "needs_background": "light"
     },
     "output_type": "display_data"
    }
   ],
   "source": [
    "plt.scatter(x_train,y_train,color='red')\n",
    "plt.scatter(x_train,regressor.predict(x_train),color='blue')\n",
    "plt.title('lstat vs medv (combined)')\n",
    "plt.xlabel('lstsat')\n",
    "plt.ylabel('medv')\n",
    "plt.show()"
   ]
  },
  {
   "cell_type": "markdown",
   "id": "deee49ae",
   "metadata": {},
   "source": [
    "##### Visualisation with testing data"
   ]
  },
  {
   "cell_type": "code",
   "execution_count": 18,
   "id": "b0c52257",
   "metadata": {},
   "outputs": [
    {
     "data": {
      "image/png": "[encoded data removed]",
      "text/plain": [
       "<Figure size 432x288 with 1 Axes>"
      ]
     },
     "metadata": {
      "needs_background": "light"
     },
     "output_type": "display_data"
    }
   ],
   "source": [
    "plt.scatter(x_test,y_test,color='red')\n",
    "plt.title('lstat vs medv (with x_test vs y_test)')\n",
    "plt.xlabel('lstsat')\n",
    "plt.ylabel('medv')\n",
    "plt.show()"
   ]
  },
  {
   "cell_type": "code",
   "execution_count": 19,
   "id": "0ec36709",
   "metadata": {},
   "outputs": [
    {
     "data": {
      "image/png": "[encoded data removed]",
      "text/plain": [
       "<Figure size 432x288 with 1 Axes>"
      ]
     },
     "metadata": {
      "needs_background": "light"
     },
     "output_type": "display_data"
    }
   ],
   "source": [
    "plt.scatter(x_test,y_pred,color='blue')\n",
    "plt.title('lstat vs medv (with x_test vs y_test_pred)')\n",
    "plt.xlabel('lstsat')\n",
    "plt.ylabel('medv')\n",
    "plt.show()"
   ]
  },
  {
   "cell_type": "code",
   "execution_count": 20,
   "id": "d596b02f",
   "metadata": {},
   "outputs": [
    {
     "data": {
      "image/png": "[encoded data removed]",
      "text/plain": [
       "<Figure size 432x288 with 1 Axes>"
      ]
     },
     "metadata": {
      "needs_background": "light"
     },
     "output_type": "display_data"
    }
   ],
   "source": [
    "plt.scatter(x_test,y_test,color='red')\n",
    "plt.scatter(x_test,y_pred,color='blue')\n",
    "plt.title('lstat vs medv (combined)')\n",
    "plt.xlabel('lstsat')\n",
    "plt.ylabel('medv')\n",
    "plt.show()"
   ]
  },
  {
   "cell_type": "markdown",
   "id": "7a9ab7e4",
   "metadata": {},
   "source": [
    "##### Testing the model"
   ]
  },
  {
   "cell_type": "code",
   "execution_count": 21,
   "id": "854e130e",
   "metadata": {},
   "outputs": [
    {
     "name": "stdout",
     "output_type": "stream",
     "text": [
      "[[19.55477123]]\n"
     ]
    },
    {
     "name": "stderr",
     "output_type": "stream",
     "text": [
      "C:\\Users\\kshit\\anaconda3\\lib\\site-packages\\sklearn\\base.py:450: UserWarning: X does not have valid feature names, but LinearRegression was fitted with feature names\n",
      "  warnings.warn(\n"
     ]
    }
   ],
   "source": [
    "y_pred1=regressor.predict([[16]])\n",
    "print(y_pred1)"
   ]
  },
  {
   "cell_type": "markdown",
   "id": "b43de7f0",
   "metadata": {},
   "source": [
    "#### Predicting the Equation"
   ]
  },
  {
   "cell_type": "code",
   "execution_count": 22,
   "id": "4013c29e",
   "metadata": {},
   "outputs": [
    {
     "name": "stdout",
     "output_type": "stream",
     "text": [
      "The Regression Coefficient is : [[-0.9166916]]\n"
     ]
    }
   ],
   "source": [
    "# getting the final linear regression equation with the values of the coefficient\n",
    "\n",
    "print(\"The Regression Coefficient is :\",regressor.coef_)       #slope or m or B1"
   ]
  },
  {
   "cell_type": "code",
   "execution_count": 23,
   "id": "d2f5b6fa",
   "metadata": {},
   "outputs": [
    {
     "name": "stdout",
     "output_type": "stream",
     "text": [
      "The Regression Intercept is :  [34.22183685]\n"
     ]
    }
   ],
   "source": [
    "print(\"The Regression Intercept is : \",regressor.intercept_)  #y-intercept when x value or year_exp = 0 or c or B0"
   ]
  },
  {
   "cell_type": "markdown",
   "id": "4236998d",
   "metadata": {},
   "source": [
    "#### Model Evaluation"
   ]
  },
  {
   "cell_type": "code",
   "execution_count": 24,
   "id": "d70399b0",
   "metadata": {},
   "outputs": [
    {
     "name": "stdout",
     "output_type": "stream",
     "text": [
      "The model Regressor Score is:  53.49901044757204 %\n"
     ]
    }
   ],
   "source": [
    "print(\"The model Regressor Score is: \",regressor.score(x_test,y_test)*100,\"%\")"
   ]
  },
  {
   "cell_type": "code",
   "execution_count": null,
   "id": "3e644e79",
   "metadata": {},
   "outputs": [],
   "source": []
  }
 ],
 "metadata": {
  "kernelspec": {
   "display_name": "Python 3 (ipykernel)",
   "language": "python",
   "name": "python3"
  },
  "language_info": {
   "codemirror_mode": {
    "name": "ipython",
    "version": 3
   },
   "file_extension": ".py",
   "mimetype": "text/x-python",
   "name": "python",
   "nbconvert_exporter": "python",
   "pygments_lexer": "ipython3",
   "version": "3.9.12"
  }
 },
 "nbformat": 4,
 "nbformat_minor": 5
}
